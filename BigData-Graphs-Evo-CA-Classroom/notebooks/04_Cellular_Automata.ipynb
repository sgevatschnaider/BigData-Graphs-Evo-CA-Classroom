{
 "cells": [
  {
   "cell_type": "markdown",
   "id": "3a8163c9",
   "metadata": {},
   "source": [
    "# 04 Cellular Automata\n",
    "\n",
    "Demostración de autómatas celulares 1D y del juego de la vida 2D."
   ]
  },
  {
   "cell_type": "code",
   "execution_count": null,
   "id": "f09f2c95",
   "metadata": {},
   "outputs": [],
   "source": [
    "import numpy as np\n",
    "from classroom.ca.elementary import evolve_1d\n",
    "from classroom.ca.game_of_life import step\n",
    "\n",
    "# 1D CA (regla 30)\n",
    "initial = np.random.randint(0, 2, size=20)\n",
    "grid = evolve_1d(initial, rule=30, steps=5)\n",
    "print('Evolución 1D:')\n",
    "print(grid)\n",
    "\n",
    "# 2D Game of Life\n",
    "board = np.zeros((6, 6), dtype=int)\n",
    "board[2, 1:4] = 1\n",
    "print('Estado inicial:\n",
    "', board)\n",
    "next_board = step(board)\n",
    "print('Siguiente estado:\n",
    "', next_board)"
   ]
  }
 ],
 "metadata": {},
 "nbformat": 4,
 "nbformat_minor": 5
}
