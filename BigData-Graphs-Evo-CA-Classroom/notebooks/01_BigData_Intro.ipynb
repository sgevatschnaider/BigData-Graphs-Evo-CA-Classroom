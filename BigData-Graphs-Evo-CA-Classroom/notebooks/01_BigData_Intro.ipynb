{
 "cells": [
  {
   "cell_type": "markdown",
   "id": "d06df4ce",
   "metadata": {},
   "source": [
    "# 01 Big Data Intro\n",
    "\n",
    "Este notebook introduce conceptos básicos de Big Data y muestra un ejemplo simple de muestreo de filas con el módulo `classroom.bigdata.sampling`."
   ]
  },
  {
   "cell_type": "code",
   "execution_count": null,
   "id": "a9a3d5f0",
   "metadata": {},
   "outputs": [],
   "source": [
    "# Ejemplo de muestreo\n",
    "from classroom.bigdata import sampling\n",
    "import pandas as pd\n",
    "\n",
    "# Crear DataFrame de ejemplo\n",
    "df = pd.DataFrame({'A': range(10), 'B': [x**2 for x in range(10)]})\n",
    "# Tomar muestra de 5 filas\n",
    "sampled = sampling.random_row_sample(df, 5, seed=42)\n",
    "sampled"
   ]
  }
 ],
 "metadata": {},
 "nbformat": 4,
 "nbformat_minor": 5
}
