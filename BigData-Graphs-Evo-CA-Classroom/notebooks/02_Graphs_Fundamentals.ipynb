{
 "cells": [
  {
   "cell_type": "markdown",
   "id": "09b7ec26",
   "metadata": {},
   "source": [
    "# 02 Graphs Fundamentals\n",
    "\n",
    "En este notebook exploramos recorridos y propiedades espectrales en grafos."
   ]
  },
  {
   "cell_type": "code",
   "execution_count": null,
   "id": "73b4dcc1",
   "metadata": {},
   "outputs": [],
   "source": [
    "# BFS y DFS\n",
    "import networkx as nx\n",
    "from classroom.graphs.traversal import bfs_order, dfs_order\n",
    "from classroom.graphs.spectral import laplacian_matrix, second_smallest_eigenvalue\n",
    "\n",
    "# Grafo de ejemplo\n",
    "G = nx.path_graph(5)\n",
    "bfs = bfs_order(G, 0)\n",
    "dfs = dfs_order(G, 0)\n",
    "print('BFS:', bfs)\n",
    "print('DFS:', dfs)\n",
    "\n",
    "# Propiedades espectrales\n",
    "L = laplacian_matrix(G)\n",
    "lambda2 = second_smallest_eigenvalue(L)\n",
    "print('lambda2:', lambda2)"
   ]
  }
 ],
 "metadata": {},
 "nbformat": 4,
 "nbformat_minor": 5
}
