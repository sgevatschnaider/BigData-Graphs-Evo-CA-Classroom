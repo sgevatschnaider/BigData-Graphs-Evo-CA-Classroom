{
 "cells": [
  {
   "cell_type": "markdown",
   "metadata": {},
   "source": [
    "# Graphs Fundamentals\nBFS, DFS y λ₂ (Fiedler) con NetworkX."
   ]
  },
  {
   "cell_type": "code",
   "metadata": {},
   "execution_count": null,
   "outputs": [],
   "source": [
    "import networkx as nx\n",
    "from classroom.graphs.traversal import bfs_order\n",
    "from classroom.graphs.spectral import fiedler\n",
    "G = nx.karate_club_graph()\n",
    "print('BFS desde 0:', bfs_order(G, 0)[:10], '...')\n",
    "lam2, _ = fiedler(G)\n",
    "print('lambda2:', round(lam2, 4))\n"
   ]
  }
 ],
 "metadata": {
  "kernelspec": {
   "display_name": "Python 3",
   "language": "python",
   "name": "python3"
  }
 },
 "nbformat": 4,
 "nbformat_minor": 2
}