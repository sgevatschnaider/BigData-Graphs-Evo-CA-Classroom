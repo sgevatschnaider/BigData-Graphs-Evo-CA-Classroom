{
 "cells": [
  {
   "cell_type": "markdown",
   "id": "f605fdc7",
   "metadata": {},
   "source": [
    "# 03 Evolutionary Algorithms\n",
    "\n",
    "Este notebook presenta un algoritmo genético simple para resolver un TSP pequeño."
   ]
  },
  {
   "cell_type": "code",
   "execution_count": null,
   "id": "869c1188",
   "metadata": {},
   "outputs": [],
   "source": [
    "from classroom.evo.ga_tsp import solve\n",
    "import numpy as np\n",
    "\n",
    "# Generar puntos al azar\n",
    "rng = np.random.default_rng(0)\n",
    "points = rng.random((8, 2))\n",
    "route, length = solve(points, pop=50, gens=50, pm=0.1, seed=0)\n",
    "print('Ruta:', route)\n",
    "print('Distancia:', length)"
   ]
  }
 ],
 "metadata": {},
 "nbformat": 4,
 "nbformat_minor": 5
}
