{
 "cells": [
  {
   "cell_type": "markdown",
   "metadata": {},
   "source": [
    "# Big Data Intro\nBienvenido/a. Ejecutá las celdas y verificá el entorno."
   ]
  },
  {
   "cell_type": "code",
   "metadata": {},
   "execution_count": null,
   "outputs": [],
   "source": [
    "import numpy as np, pandas as pd, matplotlib, networkx as nx\n",
    "print('OK: NumPy', np.__version__)\n",
    "print('OK: pandas', pd.__version__)\n",
    "print('OK: matplotlib', matplotlib.__version__)\n",
    "print('OK: networkx', nx.__version__)\n"
   ]
  }
 ],
 "metadata": {
  "kernelspec": {
   "display_name": "Python 3",
   "language": "python",
   "name": "python3"
  }
 },
 "nbformat": 4,
 "nbformat_minor": 2
}